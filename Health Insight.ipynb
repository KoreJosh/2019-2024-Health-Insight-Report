{
 "cells": [
  {
   "cell_type": "code",
   "execution_count": 1,
   "id": "7fc7f6aa",
   "metadata": {},
   "outputs": [],
   "source": [
    "import pandas as pd"
   ]
  },
  {
   "cell_type": "code",
   "execution_count": 2,
   "id": "5507b77d",
   "metadata": {},
   "outputs": [],
   "source": [
    "df = pd.read_csv(r'C:\\Users\\user\\Documents\\WorkSpace\\healthcare_dataset.csv')"
   ]
  },
  {
   "cell_type": "code",
   "execution_count": 3,
   "id": "4ef65d4c",
   "metadata": {},
   "outputs": [
    {
     "data": {
      "text/html": [
       "<div>\n",
       "<style scoped>\n",
       "    .dataframe tbody tr th:only-of-type {\n",
       "        vertical-align: middle;\n",
       "    }\n",
       "\n",
       "    .dataframe tbody tr th {\n",
       "        vertical-align: top;\n",
       "    }\n",
       "\n",
       "    .dataframe thead th {\n",
       "        text-align: right;\n",
       "    }\n",
       "</style>\n",
       "<table border=\"1\" class=\"dataframe\">\n",
       "  <thead>\n",
       "    <tr style=\"text-align: right;\">\n",
       "      <th></th>\n",
       "      <th>Unnamed: 0</th>\n",
       "      <th>Name</th>\n",
       "      <th>Age</th>\n",
       "      <th>Age Group</th>\n",
       "      <th>Gender</th>\n",
       "      <th>Blood Type</th>\n",
       "      <th>Medical Condition</th>\n",
       "      <th>Date of Admission</th>\n",
       "      <th>Doctor</th>\n",
       "      <th>Hospital</th>\n",
       "      <th>...</th>\n",
       "      <th>Billing Amount</th>\n",
       "      <th>Room Number</th>\n",
       "      <th>Admission Type</th>\n",
       "      <th>Discharge Date</th>\n",
       "      <th>Medication</th>\n",
       "      <th>Test Results</th>\n",
       "      <th>Year of Admission</th>\n",
       "      <th>Day of Admission</th>\n",
       "      <th>Month of Admission</th>\n",
       "      <th>Duration of Stay</th>\n",
       "    </tr>\n",
       "  </thead>\n",
       "  <tbody>\n",
       "    <tr>\n",
       "      <th>0</th>\n",
       "      <td>0</td>\n",
       "      <td>Bobby JacksOn</td>\n",
       "      <td>30</td>\n",
       "      <td>Adult</td>\n",
       "      <td>Male</td>\n",
       "      <td>B-</td>\n",
       "      <td>Cancer</td>\n",
       "      <td>2024-01-31</td>\n",
       "      <td>Matthew Smith</td>\n",
       "      <td>Sons and Miller</td>\n",
       "      <td>...</td>\n",
       "      <td>18856.281306</td>\n",
       "      <td>328</td>\n",
       "      <td>Urgent</td>\n",
       "      <td>2024-02-02</td>\n",
       "      <td>Paracetamol</td>\n",
       "      <td>Normal</td>\n",
       "      <td>2024</td>\n",
       "      <td>Wednesday</td>\n",
       "      <td>January</td>\n",
       "      <td>2 days</td>\n",
       "    </tr>\n",
       "    <tr>\n",
       "      <th>1</th>\n",
       "      <td>1</td>\n",
       "      <td>LesLie TErRy</td>\n",
       "      <td>62</td>\n",
       "      <td>Elderly</td>\n",
       "      <td>Male</td>\n",
       "      <td>A+</td>\n",
       "      <td>Obesity</td>\n",
       "      <td>2019-08-20</td>\n",
       "      <td>Samantha Davies</td>\n",
       "      <td>Kim Inc</td>\n",
       "      <td>...</td>\n",
       "      <td>33643.327287</td>\n",
       "      <td>265</td>\n",
       "      <td>Emergency</td>\n",
       "      <td>2019-08-26</td>\n",
       "      <td>Ibuprofen</td>\n",
       "      <td>Inconclusive</td>\n",
       "      <td>2019</td>\n",
       "      <td>Tuesday</td>\n",
       "      <td>August</td>\n",
       "      <td>6 days</td>\n",
       "    </tr>\n",
       "    <tr>\n",
       "      <th>2</th>\n",
       "      <td>2</td>\n",
       "      <td>DaNnY sMitH</td>\n",
       "      <td>76</td>\n",
       "      <td>Senior</td>\n",
       "      <td>Female</td>\n",
       "      <td>A-</td>\n",
       "      <td>Obesity</td>\n",
       "      <td>2022-09-22</td>\n",
       "      <td>Tiffany Mitchell</td>\n",
       "      <td>Cook PLC</td>\n",
       "      <td>...</td>\n",
       "      <td>27955.096079</td>\n",
       "      <td>205</td>\n",
       "      <td>Emergency</td>\n",
       "      <td>2022-10-07</td>\n",
       "      <td>Aspirin</td>\n",
       "      <td>Normal</td>\n",
       "      <td>2022</td>\n",
       "      <td>Thursday</td>\n",
       "      <td>September</td>\n",
       "      <td>15 days</td>\n",
       "    </tr>\n",
       "    <tr>\n",
       "      <th>3</th>\n",
       "      <td>3</td>\n",
       "      <td>andrEw waTtS</td>\n",
       "      <td>28</td>\n",
       "      <td>Adult</td>\n",
       "      <td>Female</td>\n",
       "      <td>O+</td>\n",
       "      <td>Diabetes</td>\n",
       "      <td>2020-11-18</td>\n",
       "      <td>Kevin Wells</td>\n",
       "      <td>Hernandez Rogers and Vang,</td>\n",
       "      <td>...</td>\n",
       "      <td>37909.782410</td>\n",
       "      <td>450</td>\n",
       "      <td>Elective</td>\n",
       "      <td>2020-12-18</td>\n",
       "      <td>Ibuprofen</td>\n",
       "      <td>Abnormal</td>\n",
       "      <td>2020</td>\n",
       "      <td>Wednesday</td>\n",
       "      <td>November</td>\n",
       "      <td>30 days</td>\n",
       "    </tr>\n",
       "    <tr>\n",
       "      <th>4</th>\n",
       "      <td>4</td>\n",
       "      <td>adrIENNE bEll</td>\n",
       "      <td>43</td>\n",
       "      <td>Adult</td>\n",
       "      <td>Female</td>\n",
       "      <td>AB+</td>\n",
       "      <td>Cancer</td>\n",
       "      <td>2022-09-19</td>\n",
       "      <td>Kathleen Hanna</td>\n",
       "      <td>White-White</td>\n",
       "      <td>...</td>\n",
       "      <td>14238.317814</td>\n",
       "      <td>458</td>\n",
       "      <td>Urgent</td>\n",
       "      <td>2022-10-09</td>\n",
       "      <td>Penicillin</td>\n",
       "      <td>Abnormal</td>\n",
       "      <td>2022</td>\n",
       "      <td>Monday</td>\n",
       "      <td>September</td>\n",
       "      <td>20 days</td>\n",
       "    </tr>\n",
       "  </tbody>\n",
       "</table>\n",
       "<p>5 rows × 21 columns</p>\n",
       "</div>"
      ],
      "text/plain": [
       "   Unnamed: 0           Name  Age Age Group  Gender Blood Type  \\\n",
       "0           0  Bobby JacksOn   30     Adult    Male         B-   \n",
       "1           1   LesLie TErRy   62   Elderly    Male         A+   \n",
       "2           2    DaNnY sMitH   76    Senior  Female         A-   \n",
       "3           3   andrEw waTtS   28     Adult  Female         O+   \n",
       "4           4  adrIENNE bEll   43     Adult  Female        AB+   \n",
       "\n",
       "  Medical Condition Date of Admission            Doctor  \\\n",
       "0            Cancer        2024-01-31     Matthew Smith   \n",
       "1           Obesity        2019-08-20   Samantha Davies   \n",
       "2           Obesity        2022-09-22  Tiffany Mitchell   \n",
       "3          Diabetes        2020-11-18       Kevin Wells   \n",
       "4            Cancer        2022-09-19    Kathleen Hanna   \n",
       "\n",
       "                     Hospital  ... Billing Amount  Room Number  \\\n",
       "0             Sons and Miller  ...   18856.281306          328   \n",
       "1                     Kim Inc  ...   33643.327287          265   \n",
       "2                    Cook PLC  ...   27955.096079          205   \n",
       "3  Hernandez Rogers and Vang,  ...   37909.782410          450   \n",
       "4                 White-White  ...   14238.317814          458   \n",
       "\n",
       "   Admission Type Discharge Date   Medication  Test Results Year of Admission  \\\n",
       "0          Urgent     2024-02-02  Paracetamol        Normal              2024   \n",
       "1       Emergency     2019-08-26    Ibuprofen  Inconclusive              2019   \n",
       "2       Emergency     2022-10-07      Aspirin        Normal              2022   \n",
       "3        Elective     2020-12-18    Ibuprofen      Abnormal              2020   \n",
       "4          Urgent     2022-10-09   Penicillin      Abnormal              2022   \n",
       "\n",
       "   Day of Admission Month of Admission Duration of Stay  \n",
       "0         Wednesday            January           2 days  \n",
       "1           Tuesday             August           6 days  \n",
       "2          Thursday          September          15 days  \n",
       "3         Wednesday           November          30 days  \n",
       "4            Monday          September          20 days  \n",
       "\n",
       "[5 rows x 21 columns]"
      ]
     },
     "execution_count": 3,
     "metadata": {},
     "output_type": "execute_result"
    }
   ],
   "source": [
    "df.head()"
   ]
  },
  {
   "cell_type": "code",
   "execution_count": 4,
   "id": "cf58296f",
   "metadata": {},
   "outputs": [
    {
     "name": "stdout",
     "output_type": "stream",
     "text": [
      "<class 'pandas.core.frame.DataFrame'>\n",
      "RangeIndex: 55500 entries, 0 to 55499\n",
      "Data columns (total 21 columns):\n",
      " #   Column              Non-Null Count  Dtype  \n",
      "---  ------              --------------  -----  \n",
      " 0   Unnamed: 0          55500 non-null  int64  \n",
      " 1   Name                55500 non-null  object \n",
      " 2   Age                 55500 non-null  int64  \n",
      " 3   Age Group           55500 non-null  object \n",
      " 4   Gender              55500 non-null  object \n",
      " 5   Blood Type          55500 non-null  object \n",
      " 6   Medical Condition   55500 non-null  object \n",
      " 7   Date of Admission   55500 non-null  object \n",
      " 8   Doctor              55500 non-null  object \n",
      " 9   Hospital            55500 non-null  object \n",
      " 10  Insurance Provider  55500 non-null  object \n",
      " 11  Billing Amount      55500 non-null  float64\n",
      " 12  Room Number         55500 non-null  int64  \n",
      " 13  Admission Type      55500 non-null  object \n",
      " 14  Discharge Date      55500 non-null  object \n",
      " 15  Medication          55500 non-null  object \n",
      " 16  Test Results        55500 non-null  object \n",
      " 17  Year of Admission   55500 non-null  int64  \n",
      " 18  Day of Admission    55500 non-null  object \n",
      " 19  Month of Admission  55500 non-null  object \n",
      " 20  Duration of Stay    55500 non-null  object \n",
      "dtypes: float64(1), int64(4), object(16)\n",
      "memory usage: 8.9+ MB\n"
     ]
    }
   ],
   "source": [
    "df.info()"
   ]
  },
  {
   "cell_type": "code",
   "execution_count": 5,
   "id": "480b1297",
   "metadata": {},
   "outputs": [],
   "source": [
    "ageGrp= []\n",
    "for age in df['Age']:\n",
    "    if age < 12:\n",
    "        ageGrp.append('Children')\n",
    "    elif age < 20:\n",
    "        ageGrp.append('Teenager')\n",
    "    elif age< 50:\n",
    "        ageGrp.append('Adult')\n",
    "    elif age <65:\n",
    "        ageGrp.append('Elderly')\n",
    "    else:\n",
    "        ageGrp.append('Senior')"
   ]
  },
  {
   "cell_type": "code",
   "execution_count": 6,
   "id": "86a83362",
   "metadata": {},
   "outputs": [],
   "source": [
    "df['Age Group']= ageGrp"
   ]
  },
  {
   "cell_type": "code",
   "execution_count": 7,
   "id": "f250c933",
   "metadata": {},
   "outputs": [],
   "source": [
    "df['Date of Admission'] = pd.to_datetime(df['Date of Admission'])\n",
    "df['Discharge Date'] = pd.to_datetime(df['Discharge Date'])"
   ]
  },
  {
   "cell_type": "code",
   "execution_count": 8,
   "id": "b48a217f",
   "metadata": {},
   "outputs": [],
   "source": [
    "df['Year of Admission'] =df['Date of Admission']. dt.year"
   ]
  },
  {
   "cell_type": "code",
   "execution_count": 9,
   "id": "9fb90cba",
   "metadata": {},
   "outputs": [],
   "source": [
    "df['Day of Admission'] = df['Date of Admission']. dt.day_name()"
   ]
  },
  {
   "cell_type": "code",
   "execution_count": 10,
   "id": "bf9e466c",
   "metadata": {},
   "outputs": [],
   "source": [
    "df['Month of Admission'] = df['Date of Admission']. dt.month_name()"
   ]
  },
  {
   "cell_type": "code",
   "execution_count": 11,
   "id": "55398a65",
   "metadata": {},
   "outputs": [],
   "source": [
    "df['Duration of Stay'] =  df['Discharge Date'] -df['Date of Admission']"
   ]
  },
  {
   "cell_type": "code",
   "execution_count": 12,
   "id": "7659b353",
   "metadata": {},
   "outputs": [
    {
     "data": {
      "text/plain": [
       "Index(['Unnamed: 0', 'Name', 'Age', 'Age Group', 'Gender', 'Blood Type',\n",
       "       'Medical Condition', 'Date of Admission', 'Doctor', 'Hospital',\n",
       "       'Insurance Provider', 'Billing Amount', 'Room Number', 'Admission Type',\n",
       "       'Discharge Date', 'Medication', 'Test Results', 'Year of Admission',\n",
       "       'Day of Admission', 'Month of Admission', 'Duration of Stay'],\n",
       "      dtype='object')"
      ]
     },
     "execution_count": 12,
     "metadata": {},
     "output_type": "execute_result"
    }
   ],
   "source": [
    "df.columns"
   ]
  },
  {
   "cell_type": "code",
   "execution_count": 13,
   "id": "5241ac76",
   "metadata": {},
   "outputs": [
    {
     "name": "stdout",
     "output_type": "stream",
     "text": [
      "<class 'pandas.core.frame.DataFrame'>\n",
      "RangeIndex: 55500 entries, 0 to 55499\n",
      "Data columns (total 21 columns):\n",
      " #   Column              Non-Null Count  Dtype          \n",
      "---  ------              --------------  -----          \n",
      " 0   Unnamed: 0          55500 non-null  int64          \n",
      " 1   Name                55500 non-null  object         \n",
      " 2   Age                 55500 non-null  int64          \n",
      " 3   Age Group           55500 non-null  object         \n",
      " 4   Gender              55500 non-null  object         \n",
      " 5   Blood Type          55500 non-null  object         \n",
      " 6   Medical Condition   55500 non-null  object         \n",
      " 7   Date of Admission   55500 non-null  datetime64[ns] \n",
      " 8   Doctor              55500 non-null  object         \n",
      " 9   Hospital            55500 non-null  object         \n",
      " 10  Insurance Provider  55500 non-null  object         \n",
      " 11  Billing Amount      55500 non-null  float64        \n",
      " 12  Room Number         55500 non-null  int64          \n",
      " 13  Admission Type      55500 non-null  object         \n",
      " 14  Discharge Date      55500 non-null  datetime64[ns] \n",
      " 15  Medication          55500 non-null  object         \n",
      " 16  Test Results        55500 non-null  object         \n",
      " 17  Year of Admission   55500 non-null  int32          \n",
      " 18  Day of Admission    55500 non-null  object         \n",
      " 19  Month of Admission  55500 non-null  object         \n",
      " 20  Duration of Stay    55500 non-null  timedelta64[ns]\n",
      "dtypes: datetime64[ns](2), float64(1), int32(1), int64(3), object(13), timedelta64[ns](1)\n",
      "memory usage: 8.7+ MB\n"
     ]
    }
   ],
   "source": [
    "df.info()"
   ]
  },
  {
   "cell_type": "code",
   "execution_count": 14,
   "id": "54e0572f",
   "metadata": {},
   "outputs": [
    {
     "data": {
      "text/plain": [
       "Gender\n",
       "Male      27774\n",
       "Female    27726\n",
       "Name: count, dtype: int64"
      ]
     },
     "execution_count": 14,
     "metadata": {},
     "output_type": "execute_result"
    }
   ],
   "source": [
    "df.Gender.value_counts()"
   ]
  },
  {
   "cell_type": "code",
   "execution_count": 15,
   "id": "2008f153",
   "metadata": {},
   "outputs": [
    {
     "data": {
      "text/plain": [
       "Blood Type\n",
       "A-     6969\n",
       "A+     6956\n",
       "AB+    6947\n",
       "AB-    6945\n",
       "B+     6945\n",
       "B-     6944\n",
       "O+     6917\n",
       "O-     6877\n",
       "Name: count, dtype: int64"
      ]
     },
     "execution_count": 15,
     "metadata": {},
     "output_type": "execute_result"
    }
   ],
   "source": [
    "df[ 'Blood Type'].value_counts()"
   ]
  },
  {
   "cell_type": "code",
   "execution_count": 16,
   "id": "81d10305",
   "metadata": {},
   "outputs": [
    {
     "data": {
      "text/plain": [
       "39876"
      ]
     },
     "execution_count": 16,
     "metadata": {},
     "output_type": "execute_result"
    }
   ],
   "source": [
    "df['Hospital'].nunique()"
   ]
  },
  {
   "cell_type": "code",
   "execution_count": 17,
   "id": "e8d40e84",
   "metadata": {},
   "outputs": [
    {
     "data": {
      "text/plain": [
       "Medical Condition\n",
       "Arthritis       9308\n",
       "Diabetes        9304\n",
       "Hypertension    9245\n",
       "Obesity         9231\n",
       "Cancer          9227\n",
       "Asthma          9185\n",
       "Name: count, dtype: int64"
      ]
     },
     "execution_count": 17,
     "metadata": {},
     "output_type": "execute_result"
    }
   ],
   "source": [
    "df['Medical Condition'].value_counts()"
   ]
  },
  {
   "cell_type": "code",
   "execution_count": 18,
   "id": "f85384cb",
   "metadata": {},
   "outputs": [
    {
     "data": {
      "text/plain": [
       "Medical Condition\n",
       "Arthritis       2.373291e+08\n",
       "Asthma          2.354598e+08\n",
       "Cancer          2.321679e+08\n",
       "Diabetes        2.385397e+08\n",
       "Hypertension    2.357207e+08\n",
       "Obesity         2.382149e+08\n",
       "Name: Billing Amount, dtype: float64"
      ]
     },
     "execution_count": 18,
     "metadata": {},
     "output_type": "execute_result"
    }
   ],
   "source": [
    "df.groupby(['Medical Condition'])['Billing Amount'].sum()"
   ]
  },
  {
   "cell_type": "code",
   "execution_count": 19,
   "id": "8b6cd1db",
   "metadata": {},
   "outputs": [
    {
     "data": {
      "text/plain": [
       "Admission Type\n",
       "Elective     18655\n",
       "Urgent       18576\n",
       "Emergency    18269\n",
       "Name: count, dtype: int64"
      ]
     },
     "execution_count": 19,
     "metadata": {},
     "output_type": "execute_result"
    }
   ],
   "source": [
    "df['Admission Type'].value_counts()"
   ]
  },
  {
   "cell_type": "code",
   "execution_count": 20,
   "id": "3549401c",
   "metadata": {},
   "outputs": [
    {
     "data": {
      "text/plain": [
       "Age Group\n",
       "Adult       24309\n",
       "Senior      17087\n",
       "Elderly     12411\n",
       "Teenager     1693\n",
       "Name: count, dtype: int64"
      ]
     },
     "execution_count": 20,
     "metadata": {},
     "output_type": "execute_result"
    }
   ],
   "source": [
    "df['Age Group'].value_counts()"
   ]
  },
  {
   "cell_type": "code",
   "execution_count": 21,
   "id": "4393fbc6",
   "metadata": {},
   "outputs": [
    {
     "data": {
      "text/plain": [
       "Admission Type\n",
       "Elective     18655\n",
       "Urgent       18576\n",
       "Emergency    18269\n",
       "Name: count, dtype: int64"
      ]
     },
     "execution_count": 21,
     "metadata": {},
     "output_type": "execute_result"
    }
   ],
   "source": [
    "df['Admission Type'].value_counts()"
   ]
  },
  {
   "cell_type": "code",
   "execution_count": 22,
   "id": "c52f68ae",
   "metadata": {},
   "outputs": [
    {
     "data": {
      "text/plain": [
       "Test Results\n",
       "Abnormal        18627\n",
       "Normal          18517\n",
       "Inconclusive    18356\n",
       "Name: count, dtype: int64"
      ]
     },
     "execution_count": 22,
     "metadata": {},
     "output_type": "execute_result"
    }
   ],
   "source": [
    "df['Test Results'].value_counts()"
   ]
  },
  {
   "cell_type": "code",
   "execution_count": 23,
   "id": "c6df984b",
   "metadata": {},
   "outputs": [
    {
     "data": {
      "text/plain": [
       "Insurance Provider\n",
       "Cigna               11249\n",
       "Medicare            11154\n",
       "UnitedHealthcare    11125\n",
       "Blue Cross          11059\n",
       "Aetna               10913\n",
       "Name: count, dtype: int64"
      ]
     },
     "execution_count": 23,
     "metadata": {},
     "output_type": "execute_result"
    }
   ],
   "source": [
    "df['Insurance Provider'].value_counts()"
   ]
  },
  {
   "cell_type": "code",
   "execution_count": 24,
   "id": "0c163d5f",
   "metadata": {},
   "outputs": [
    {
     "data": {
      "text/plain": [
       "0"
      ]
     },
     "execution_count": 24,
     "metadata": {},
     "output_type": "execute_result"
    }
   ],
   "source": [
    "df.duplicated().sum()"
   ]
  },
  {
   "cell_type": "code",
   "execution_count": 25,
   "id": "00c88670",
   "metadata": {},
   "outputs": [
    {
     "data": {
      "text/html": [
       "<div>\n",
       "<style scoped>\n",
       "    .dataframe tbody tr th:only-of-type {\n",
       "        vertical-align: middle;\n",
       "    }\n",
       "\n",
       "    .dataframe tbody tr th {\n",
       "        vertical-align: top;\n",
       "    }\n",
       "\n",
       "    .dataframe thead th {\n",
       "        text-align: right;\n",
       "    }\n",
       "</style>\n",
       "<table border=\"1\" class=\"dataframe\">\n",
       "  <thead>\n",
       "    <tr style=\"text-align: right;\">\n",
       "      <th></th>\n",
       "      <th>Unnamed: 0</th>\n",
       "      <th>Name</th>\n",
       "      <th>Age</th>\n",
       "      <th>Age Group</th>\n",
       "      <th>Gender</th>\n",
       "      <th>Blood Type</th>\n",
       "      <th>Medical Condition</th>\n",
       "      <th>Date of Admission</th>\n",
       "      <th>Doctor</th>\n",
       "      <th>Hospital</th>\n",
       "      <th>...</th>\n",
       "      <th>Billing Amount</th>\n",
       "      <th>Room Number</th>\n",
       "      <th>Admission Type</th>\n",
       "      <th>Discharge Date</th>\n",
       "      <th>Medication</th>\n",
       "      <th>Test Results</th>\n",
       "      <th>Year of Admission</th>\n",
       "      <th>Day of Admission</th>\n",
       "      <th>Month of Admission</th>\n",
       "      <th>Duration of Stay</th>\n",
       "    </tr>\n",
       "  </thead>\n",
       "  <tbody>\n",
       "    <tr>\n",
       "      <th>0</th>\n",
       "      <td>0</td>\n",
       "      <td>Bobby JacksOn</td>\n",
       "      <td>30</td>\n",
       "      <td>Adult</td>\n",
       "      <td>Male</td>\n",
       "      <td>B-</td>\n",
       "      <td>Cancer</td>\n",
       "      <td>2024-01-31</td>\n",
       "      <td>Matthew Smith</td>\n",
       "      <td>Sons and Miller</td>\n",
       "      <td>...</td>\n",
       "      <td>18856.281306</td>\n",
       "      <td>328</td>\n",
       "      <td>Urgent</td>\n",
       "      <td>2024-02-02</td>\n",
       "      <td>Paracetamol</td>\n",
       "      <td>Normal</td>\n",
       "      <td>2024</td>\n",
       "      <td>Wednesday</td>\n",
       "      <td>January</td>\n",
       "      <td>2 days</td>\n",
       "    </tr>\n",
       "    <tr>\n",
       "      <th>1</th>\n",
       "      <td>1</td>\n",
       "      <td>LesLie TErRy</td>\n",
       "      <td>62</td>\n",
       "      <td>Elderly</td>\n",
       "      <td>Male</td>\n",
       "      <td>A+</td>\n",
       "      <td>Obesity</td>\n",
       "      <td>2019-08-20</td>\n",
       "      <td>Samantha Davies</td>\n",
       "      <td>Kim Inc</td>\n",
       "      <td>...</td>\n",
       "      <td>33643.327287</td>\n",
       "      <td>265</td>\n",
       "      <td>Emergency</td>\n",
       "      <td>2019-08-26</td>\n",
       "      <td>Ibuprofen</td>\n",
       "      <td>Inconclusive</td>\n",
       "      <td>2019</td>\n",
       "      <td>Tuesday</td>\n",
       "      <td>August</td>\n",
       "      <td>6 days</td>\n",
       "    </tr>\n",
       "    <tr>\n",
       "      <th>2</th>\n",
       "      <td>2</td>\n",
       "      <td>DaNnY sMitH</td>\n",
       "      <td>76</td>\n",
       "      <td>Senior</td>\n",
       "      <td>Female</td>\n",
       "      <td>A-</td>\n",
       "      <td>Obesity</td>\n",
       "      <td>2022-09-22</td>\n",
       "      <td>Tiffany Mitchell</td>\n",
       "      <td>Cook PLC</td>\n",
       "      <td>...</td>\n",
       "      <td>27955.096079</td>\n",
       "      <td>205</td>\n",
       "      <td>Emergency</td>\n",
       "      <td>2022-10-07</td>\n",
       "      <td>Aspirin</td>\n",
       "      <td>Normal</td>\n",
       "      <td>2022</td>\n",
       "      <td>Thursday</td>\n",
       "      <td>September</td>\n",
       "      <td>15 days</td>\n",
       "    </tr>\n",
       "    <tr>\n",
       "      <th>3</th>\n",
       "      <td>3</td>\n",
       "      <td>andrEw waTtS</td>\n",
       "      <td>28</td>\n",
       "      <td>Adult</td>\n",
       "      <td>Female</td>\n",
       "      <td>O+</td>\n",
       "      <td>Diabetes</td>\n",
       "      <td>2020-11-18</td>\n",
       "      <td>Kevin Wells</td>\n",
       "      <td>Hernandez Rogers and Vang,</td>\n",
       "      <td>...</td>\n",
       "      <td>37909.782410</td>\n",
       "      <td>450</td>\n",
       "      <td>Elective</td>\n",
       "      <td>2020-12-18</td>\n",
       "      <td>Ibuprofen</td>\n",
       "      <td>Abnormal</td>\n",
       "      <td>2020</td>\n",
       "      <td>Wednesday</td>\n",
       "      <td>November</td>\n",
       "      <td>30 days</td>\n",
       "    </tr>\n",
       "    <tr>\n",
       "      <th>4</th>\n",
       "      <td>4</td>\n",
       "      <td>adrIENNE bEll</td>\n",
       "      <td>43</td>\n",
       "      <td>Adult</td>\n",
       "      <td>Female</td>\n",
       "      <td>AB+</td>\n",
       "      <td>Cancer</td>\n",
       "      <td>2022-09-19</td>\n",
       "      <td>Kathleen Hanna</td>\n",
       "      <td>White-White</td>\n",
       "      <td>...</td>\n",
       "      <td>14238.317814</td>\n",
       "      <td>458</td>\n",
       "      <td>Urgent</td>\n",
       "      <td>2022-10-09</td>\n",
       "      <td>Penicillin</td>\n",
       "      <td>Abnormal</td>\n",
       "      <td>2022</td>\n",
       "      <td>Monday</td>\n",
       "      <td>September</td>\n",
       "      <td>20 days</td>\n",
       "    </tr>\n",
       "    <tr>\n",
       "      <th>...</th>\n",
       "      <td>...</td>\n",
       "      <td>...</td>\n",
       "      <td>...</td>\n",
       "      <td>...</td>\n",
       "      <td>...</td>\n",
       "      <td>...</td>\n",
       "      <td>...</td>\n",
       "      <td>...</td>\n",
       "      <td>...</td>\n",
       "      <td>...</td>\n",
       "      <td>...</td>\n",
       "      <td>...</td>\n",
       "      <td>...</td>\n",
       "      <td>...</td>\n",
       "      <td>...</td>\n",
       "      <td>...</td>\n",
       "      <td>...</td>\n",
       "      <td>...</td>\n",
       "      <td>...</td>\n",
       "      <td>...</td>\n",
       "      <td>...</td>\n",
       "    </tr>\n",
       "    <tr>\n",
       "      <th>55495</th>\n",
       "      <td>55495</td>\n",
       "      <td>eLIZABeTH jaCkSOn</td>\n",
       "      <td>42</td>\n",
       "      <td>Adult</td>\n",
       "      <td>Female</td>\n",
       "      <td>O+</td>\n",
       "      <td>Asthma</td>\n",
       "      <td>2020-08-16</td>\n",
       "      <td>Joshua Jarvis</td>\n",
       "      <td>Jones-Thompson</td>\n",
       "      <td>...</td>\n",
       "      <td>2650.714952</td>\n",
       "      <td>417</td>\n",
       "      <td>Elective</td>\n",
       "      <td>2020-09-15</td>\n",
       "      <td>Penicillin</td>\n",
       "      <td>Abnormal</td>\n",
       "      <td>2020</td>\n",
       "      <td>Sunday</td>\n",
       "      <td>August</td>\n",
       "      <td>30 days</td>\n",
       "    </tr>\n",
       "    <tr>\n",
       "      <th>55496</th>\n",
       "      <td>55496</td>\n",
       "      <td>KYle pEREz</td>\n",
       "      <td>61</td>\n",
       "      <td>Elderly</td>\n",
       "      <td>Female</td>\n",
       "      <td>AB-</td>\n",
       "      <td>Obesity</td>\n",
       "      <td>2020-01-23</td>\n",
       "      <td>Taylor Sullivan</td>\n",
       "      <td>Tucker-Moyer</td>\n",
       "      <td>...</td>\n",
       "      <td>31457.797307</td>\n",
       "      <td>316</td>\n",
       "      <td>Elective</td>\n",
       "      <td>2020-02-01</td>\n",
       "      <td>Aspirin</td>\n",
       "      <td>Normal</td>\n",
       "      <td>2020</td>\n",
       "      <td>Thursday</td>\n",
       "      <td>January</td>\n",
       "      <td>9 days</td>\n",
       "    </tr>\n",
       "    <tr>\n",
       "      <th>55497</th>\n",
       "      <td>55497</td>\n",
       "      <td>HEATher WaNG</td>\n",
       "      <td>38</td>\n",
       "      <td>Adult</td>\n",
       "      <td>Female</td>\n",
       "      <td>B+</td>\n",
       "      <td>Hypertension</td>\n",
       "      <td>2020-07-13</td>\n",
       "      <td>Joe Jacobs DVM</td>\n",
       "      <td>and Mahoney Johnson Vasquez,</td>\n",
       "      <td>...</td>\n",
       "      <td>27620.764717</td>\n",
       "      <td>347</td>\n",
       "      <td>Urgent</td>\n",
       "      <td>2020-08-10</td>\n",
       "      <td>Ibuprofen</td>\n",
       "      <td>Abnormal</td>\n",
       "      <td>2020</td>\n",
       "      <td>Monday</td>\n",
       "      <td>July</td>\n",
       "      <td>28 days</td>\n",
       "    </tr>\n",
       "    <tr>\n",
       "      <th>55498</th>\n",
       "      <td>55498</td>\n",
       "      <td>JENniFER JOneS</td>\n",
       "      <td>43</td>\n",
       "      <td>Adult</td>\n",
       "      <td>Male</td>\n",
       "      <td>O-</td>\n",
       "      <td>Arthritis</td>\n",
       "      <td>2019-05-25</td>\n",
       "      <td>Kimberly Curry</td>\n",
       "      <td>Jackson Todd and Castro,</td>\n",
       "      <td>...</td>\n",
       "      <td>32451.092358</td>\n",
       "      <td>321</td>\n",
       "      <td>Elective</td>\n",
       "      <td>2019-05-31</td>\n",
       "      <td>Ibuprofen</td>\n",
       "      <td>Abnormal</td>\n",
       "      <td>2019</td>\n",
       "      <td>Saturday</td>\n",
       "      <td>May</td>\n",
       "      <td>6 days</td>\n",
       "    </tr>\n",
       "    <tr>\n",
       "      <th>55499</th>\n",
       "      <td>55499</td>\n",
       "      <td>jAMES GARCiA</td>\n",
       "      <td>53</td>\n",
       "      <td>Elderly</td>\n",
       "      <td>Female</td>\n",
       "      <td>O+</td>\n",
       "      <td>Arthritis</td>\n",
       "      <td>2024-04-02</td>\n",
       "      <td>Dennis Warren</td>\n",
       "      <td>Henry Sons and</td>\n",
       "      <td>...</td>\n",
       "      <td>4010.134172</td>\n",
       "      <td>448</td>\n",
       "      <td>Urgent</td>\n",
       "      <td>2024-04-29</td>\n",
       "      <td>Ibuprofen</td>\n",
       "      <td>Abnormal</td>\n",
       "      <td>2024</td>\n",
       "      <td>Tuesday</td>\n",
       "      <td>April</td>\n",
       "      <td>27 days</td>\n",
       "    </tr>\n",
       "  </tbody>\n",
       "</table>\n",
       "<p>55500 rows × 21 columns</p>\n",
       "</div>"
      ],
      "text/plain": [
       "       Unnamed: 0               Name  Age Age Group  Gender Blood Type  \\\n",
       "0               0      Bobby JacksOn   30     Adult    Male         B-   \n",
       "1               1       LesLie TErRy   62   Elderly    Male         A+   \n",
       "2               2        DaNnY sMitH   76    Senior  Female         A-   \n",
       "3               3       andrEw waTtS   28     Adult  Female         O+   \n",
       "4               4      adrIENNE bEll   43     Adult  Female        AB+   \n",
       "...           ...                ...  ...       ...     ...        ...   \n",
       "55495       55495  eLIZABeTH jaCkSOn   42     Adult  Female         O+   \n",
       "55496       55496         KYle pEREz   61   Elderly  Female        AB-   \n",
       "55497       55497       HEATher WaNG   38     Adult  Female         B+   \n",
       "55498       55498     JENniFER JOneS   43     Adult    Male         O-   \n",
       "55499       55499       jAMES GARCiA   53   Elderly  Female         O+   \n",
       "\n",
       "      Medical Condition Date of Admission            Doctor  \\\n",
       "0                Cancer        2024-01-31     Matthew Smith   \n",
       "1               Obesity        2019-08-20   Samantha Davies   \n",
       "2               Obesity        2022-09-22  Tiffany Mitchell   \n",
       "3              Diabetes        2020-11-18       Kevin Wells   \n",
       "4                Cancer        2022-09-19    Kathleen Hanna   \n",
       "...                 ...               ...               ...   \n",
       "55495            Asthma        2020-08-16     Joshua Jarvis   \n",
       "55496           Obesity        2020-01-23   Taylor Sullivan   \n",
       "55497      Hypertension        2020-07-13    Joe Jacobs DVM   \n",
       "55498         Arthritis        2019-05-25    Kimberly Curry   \n",
       "55499         Arthritis        2024-04-02     Dennis Warren   \n",
       "\n",
       "                           Hospital  ... Billing Amount  Room Number  \\\n",
       "0                   Sons and Miller  ...   18856.281306          328   \n",
       "1                           Kim Inc  ...   33643.327287          265   \n",
       "2                          Cook PLC  ...   27955.096079          205   \n",
       "3        Hernandez Rogers and Vang,  ...   37909.782410          450   \n",
       "4                       White-White  ...   14238.317814          458   \n",
       "...                             ...  ...            ...          ...   \n",
       "55495                Jones-Thompson  ...    2650.714952          417   \n",
       "55496                  Tucker-Moyer  ...   31457.797307          316   \n",
       "55497  and Mahoney Johnson Vasquez,  ...   27620.764717          347   \n",
       "55498      Jackson Todd and Castro,  ...   32451.092358          321   \n",
       "55499                Henry Sons and  ...    4010.134172          448   \n",
       "\n",
       "       Admission Type Discharge Date   Medication  Test Results  \\\n",
       "0              Urgent     2024-02-02  Paracetamol        Normal   \n",
       "1           Emergency     2019-08-26    Ibuprofen  Inconclusive   \n",
       "2           Emergency     2022-10-07      Aspirin        Normal   \n",
       "3            Elective     2020-12-18    Ibuprofen      Abnormal   \n",
       "4              Urgent     2022-10-09   Penicillin      Abnormal   \n",
       "...               ...            ...          ...           ...   \n",
       "55495        Elective     2020-09-15   Penicillin      Abnormal   \n",
       "55496        Elective     2020-02-01      Aspirin        Normal   \n",
       "55497          Urgent     2020-08-10    Ibuprofen      Abnormal   \n",
       "55498        Elective     2019-05-31    Ibuprofen      Abnormal   \n",
       "55499          Urgent     2024-04-29    Ibuprofen      Abnormal   \n",
       "\n",
       "      Year of Admission  Day of Admission Month of Admission Duration of Stay  \n",
       "0                  2024         Wednesday            January           2 days  \n",
       "1                  2019           Tuesday             August           6 days  \n",
       "2                  2022          Thursday          September          15 days  \n",
       "3                  2020         Wednesday           November          30 days  \n",
       "4                  2022            Monday          September          20 days  \n",
       "...                 ...               ...                ...              ...  \n",
       "55495              2020            Sunday             August          30 days  \n",
       "55496              2020          Thursday            January           9 days  \n",
       "55497              2020            Monday               July          28 days  \n",
       "55498              2019          Saturday                May           6 days  \n",
       "55499              2024           Tuesday              April          27 days  \n",
       "\n",
       "[55500 rows x 21 columns]"
      ]
     },
     "execution_count": 25,
     "metadata": {},
     "output_type": "execute_result"
    }
   ],
   "source": [
    "df1 = df.copy()\n",
    "df1.drop_duplicates()"
   ]
  },
  {
   "cell_type": "code",
   "execution_count": 80,
   "id": "76c5e067",
   "metadata": {},
   "outputs": [],
   "source": [
    "df.to_csv(r'C:\\Users\\user\\Documents\\WorkSpace\\Healthcare_data.csv', index=False)"
   ]
  },
  {
   "cell_type": "code",
   "execution_count": null,
   "id": "2113fb24",
   "metadata": {},
   "outputs": [],
   "source": []
  },
  {
   "cell_type": "code",
   "execution_count": null,
   "id": "ec35db2e",
   "metadata": {},
   "outputs": [],
   "source": []
  },
  {
   "cell_type": "code",
   "execution_count": null,
   "id": "65953bde",
   "metadata": {},
   "outputs": [],
   "source": []
  },
  {
   "cell_type": "code",
   "execution_count": null,
   "id": "3f6ca354",
   "metadata": {},
   "outputs": [],
   "source": []
  },
  {
   "cell_type": "code",
   "execution_count": null,
   "id": "fc40a7ff",
   "metadata": {},
   "outputs": [],
   "source": []
  },
  {
   "cell_type": "code",
   "execution_count": null,
   "id": "0326ea0b",
   "metadata": {},
   "outputs": [],
   "source": []
  },
  {
   "cell_type": "code",
   "execution_count": null,
   "id": "00aff492",
   "metadata": {},
   "outputs": [],
   "source": []
  },
  {
   "cell_type": "code",
   "execution_count": null,
   "id": "5dfba2bd",
   "metadata": {},
   "outputs": [],
   "source": []
  },
  {
   "cell_type": "code",
   "execution_count": null,
   "id": "9b8913af",
   "metadata": {},
   "outputs": [],
   "source": []
  },
  {
   "cell_type": "code",
   "execution_count": null,
   "id": "d96cf489",
   "metadata": {},
   "outputs": [],
   "source": []
  },
  {
   "cell_type": "code",
   "execution_count": null,
   "id": "0ebfce9a",
   "metadata": {},
   "outputs": [],
   "source": []
  },
  {
   "cell_type": "code",
   "execution_count": null,
   "id": "90b36fab",
   "metadata": {},
   "outputs": [],
   "source": []
  },
  {
   "cell_type": "code",
   "execution_count": null,
   "id": "6d9898c3",
   "metadata": {},
   "outputs": [],
   "source": []
  },
  {
   "cell_type": "code",
   "execution_count": null,
   "id": "407d8c06",
   "metadata": {},
   "outputs": [],
   "source": []
  },
  {
   "cell_type": "code",
   "execution_count": null,
   "id": "3bb678ff",
   "metadata": {},
   "outputs": [],
   "source": []
  }
 ],
 "metadata": {
  "kernelspec": {
   "display_name": "Python 3 (ipykernel)",
   "language": "python",
   "name": "python3"
  },
  "language_info": {
   "codemirror_mode": {
    "name": "ipython",
    "version": 3
   },
   "file_extension": ".py",
   "mimetype": "text/x-python",
   "name": "python",
   "nbconvert_exporter": "python",
   "pygments_lexer": "ipython3",
   "version": "3.11.5"
  }
 },
 "nbformat": 4,
 "nbformat_minor": 5
}
